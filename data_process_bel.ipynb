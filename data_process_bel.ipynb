{
  "nbformat": 4,
  "nbformat_minor": 0,
  "metadata": {
    "colab": {
      "name": "Copia de Data_Process",
      "provenance": [],
      "collapsed_sections": [],
      "include_colab_link": true
    },
    "kernelspec": {
      "name": "python3",
      "display_name": "Python 3"
    },
    "accelerator": "GPU"
  },
  "cells": [
    {
      "cell_type": "markdown",
      "metadata": {
        "id": "view-in-github",
        "colab_type": "text"
      },
      "source": [
        "<a href=\"https://colab.research.google.com/github/joenvihe/Data-Science--Cheat-Sheet/blob/master/data_process_bel.ipynb\" target=\"_parent\"><img src=\"https://colab.research.google.com/assets/colab-badge.svg\" alt=\"Open In Colab\"/></a>"
      ]
    },
    {
      "cell_type": "code",
      "metadata": {
        "id": "CG9mAm3sXNQ9",
        "colab_type": "code",
        "outputId": "b25e3ecb-856b-4231-d37b-175954645c90",
        "colab": {
          "base_uri": "https://localhost:8080/",
          "height": 122
        }
      },
      "source": [
        "from google.colab import drive\n",
        "drive.mount('/content/gdrive')"
      ],
      "execution_count": 0,
      "outputs": [
        {
          "output_type": "stream",
          "text": [
            "Go to this URL in a browser: https://accounts.google.com/o/oauth2/auth?client_id=947318989803-6bn6qk8qdgf4n4g3pfee6491hc0brc4i.apps.googleusercontent.com&redirect_uri=urn%3Aietf%3Awg%3Aoauth%3A2.0%3Aoob&scope=email%20https%3A%2F%2Fwww.googleapis.com%2Fauth%2Fdocs.test%20https%3A%2F%2Fwww.googleapis.com%2Fauth%2Fdrive%20https%3A%2F%2Fwww.googleapis.com%2Fauth%2Fdrive.photos.readonly%20https%3A%2F%2Fwww.googleapis.com%2Fauth%2Fpeopleapi.readonly&response_type=code\n",
            "\n",
            "Enter your authorization code:\n",
            "··········\n",
            "Mounted at /content/gdrive\n"
          ],
          "name": "stdout"
        }
      ]
    },
    {
      "cell_type": "code",
      "metadata": {
        "id": "QWWoB0IRXN9m",
        "colab_type": "code",
        "outputId": "c381d386-d9ba-4f30-99c0-d8f439daf64e",
        "colab": {
          "base_uri": "https://localhost:8080/",
          "height": 51
        }
      },
      "source": [
        "!pwd\n",
        "#Fijo la carpeta\n",
        "%cd /content/gdrive/My Drive/personal/BELCORP"
      ],
      "execution_count": 0,
      "outputs": [
        {
          "output_type": "stream",
          "text": [
            "/content\n",
            "/content/gdrive/My Drive/personal/BELCORP\n"
          ],
          "name": "stdout"
        }
      ]
    },
    {
      "cell_type": "code",
      "metadata": {
        "id": "IyUpfJh7XeWp",
        "colab_type": "code",
        "colab": {}
      },
      "source": [
        "import numpy as np\n",
        "import pandas as pd\n",
        "from dateutil.parser import parse \n",
        "from datetime import datetime\n",
        "import matplotlib.pyplot as plt"
      ],
      "execution_count": 0,
      "outputs": []
    },
    {
      "cell_type": "code",
      "metadata": {
        "id": "x0hfmBSKDG0u",
        "colab_type": "code",
        "colab": {}
      },
      "source": [
        "# Draw Plot\n",
        "def plot_df(df, x, y, title=\"\", xlabel='Date', ylabel='Value', dpi=100):\n",
        "    plt.rcParams['agg.path.chunksize'] = 10000\n",
        "    plt.figure(figsize=(16,5), dpi=dpi)\n",
        "    plt.plot(x, y, color='tab:red')\n",
        "    plt.gca().set(title=title, xlabel=xlabel, ylabel=ylabel)\n",
        "    plt.show()"
      ],
      "execution_count": 0,
      "outputs": []
    },
    {
      "cell_type": "code",
      "metadata": {
        "id": "hf1z3Gh4Xj1d",
        "colab_type": "code",
        "colab": {}
      },
      "source": [
        "# Para reducir memoria de los datasets:\n",
        "def reduce_memory(ds_tmp):\n",
        "    int_columns = ds_tmp.select_dtypes(include=[np.int16,np.int32,np.int64]).columns.tolist()\n",
        "    \n",
        "    for col in int_columns:\n",
        "        ds_tmp[col] = pd.to_numeric(arg=ds_tmp[col], downcast='integer')\n",
        "\n",
        "    float_columns = ds_tmp.select_dtypes(include=[np.float64]).columns.tolist()\n",
        "    for col in float_columns:\n",
        "        ds_tmp[col] = pd.to_numeric(arg=ds_tmp[col], downcast='float')"
      ],
      "execution_count": 0,
      "outputs": []
    },
    {
      "cell_type": "markdown",
      "metadata": {
        "id": "XFvb3pm8ZhtS",
        "colab_type": "text"
      },
      "source": [
        "# Cargando Bases"
      ]
    },
    {
      "cell_type": "code",
      "metadata": {
        "id": "Mga3lxcc-z-d",
        "colab_type": "code",
        "colab": {}
      },
      "source": [
        "#https://www.machinelearningplus.com/time-series/time-series-analysis-python/\n",
        "#https://machinelearningmastery.com/multivariate-time-series-forecasting-lstms-keras/\n",
        "#https://datascience.stackexchange.com/questions/45684/multivariate-time-series-binary-classification"
      ],
      "execution_count": 0,
      "outputs": []
    },
    {
      "cell_type": "markdown",
      "metadata": {
        "id": "RFSsRjptEDwc",
        "colab_type": "text"
      },
      "source": [
        "## CAMPANA CONSULTORA"
      ]
    },
    {
      "cell_type": "code",
      "metadata": {
        "id": "0En9A7kZEGvY",
        "colab_type": "code",
        "colab": {}
      },
      "source": [
        "ds_cc = pd.read_csv(\"campana_consultora.csv\")\n",
        "ds_cc = ds_cc.drop_duplicates()\n",
        "reduce_memory(ds_cc)\n",
        "ds_cc = ds_cc.drop(columns=['codigocanalorigen', 'Unnamed: 0'])"
      ],
      "execution_count": 0,
      "outputs": []
    },
    {
      "cell_type": "code",
      "metadata": {
        "id": "2LYWEzZS1FBv",
        "colab_type": "code",
        "outputId": "793162ab-786f-439c-9167-f532b15aa22a",
        "colab": {
          "base_uri": "https://localhost:8080/",
          "height": 442
        }
      },
      "source": [
        "ds_cc.info()"
      ],
      "execution_count": 0,
      "outputs": [
        {
          "output_type": "stream",
          "text": [
            "<class 'pandas.core.frame.DataFrame'>\n",
            "Int64Index: 1501988 entries, 0 to 1501987\n",
            "Data columns (total 20 columns):\n",
            "campana                              1501988 non-null int32\n",
            "IdConsultora                         1501988 non-null int32\n",
            "Flagpasopedido                       1501988 non-null int8\n",
            "flagactiva                           1501988 non-null int8\n",
            "flagpasopedidocuidadopersonal        1501988 non-null float32\n",
            "flagpasopedidomaquillaje             1501988 non-null float32\n",
            "flagpasopedidotratamientocorporal    1501988 non-null float32\n",
            "flagpasopedidotratamientofacial      1501988 non-null float32\n",
            "flagpedidoanulado                    1501988 non-null float32\n",
            "flagpasopedidofragancias             1501988 non-null float32\n",
            "codigofactura                        1028986 non-null object\n",
            "evaluacion_nuevas                    1501984 non-null object\n",
            "segmentacion                         1501988 non-null object\n",
            "flagpasopedidoweb                    1501988 non-null float32\n",
            "cantidadlogueos                      1251103 non-null float32\n",
            "flagdispositivo                      1501988 non-null int8\n",
            "flagdigital                          1396753 non-null float32\n",
            "flagofertadigital                    1501988 non-null float32\n",
            "flagsuscripcion                      1501988 non-null int8\n",
            "geografia                            1501988 non-null object\n",
            "dtypes: float32(10), int32(2), int8(4), object(4)\n",
            "memory usage: 131.8+ MB\n"
          ],
          "name": "stdout"
        }
      ]
    },
    {
      "cell_type": "code",
      "metadata": {
        "id": "J8y_RNfCeNlG",
        "colab_type": "code",
        "outputId": "f1d62afd-295d-4dd4-dafb-9415590c6e5e",
        "colab": {
          "base_uri": "https://localhost:8080/",
          "height": 136
        }
      },
      "source": [
        "ds_p = pd.read_csv(\"predict_submission.csv\")\n",
        "ds_p = ds_p.drop_duplicates()\n",
        "ds_p.columns=[\"IdConsultora\",\"flagpasopedido\"]\n",
        "reduce_memory(ds_p)\n",
        "ds_p.info()"
      ],
      "execution_count": 0,
      "outputs": [
        {
          "output_type": "stream",
          "text": [
            "<class 'pandas.core.frame.DataFrame'>\n",
            "Int64Index: 120895 entries, 0 to 120894\n",
            "Data columns (total 2 columns):\n",
            "IdConsultora      120895 non-null int32\n",
            "flagpasopedido    0 non-null float32\n",
            "dtypes: float32(1), int32(1)\n",
            "memory usage: 1.8 MB\n"
          ],
          "name": "stdout"
        }
      ]
    },
    {
      "cell_type": "code",
      "metadata": {
        "id": "f6df4FMYfR1F",
        "colab_type": "code",
        "outputId": "d9b3e99f-449b-4117-cb87-9cbff086aec0",
        "colab": {
          "base_uri": "https://localhost:8080/",
          "height": 34
        }
      },
      "source": [
        "ds_p.shape"
      ],
      "execution_count": 0,
      "outputs": [
        {
          "output_type": "execute_result",
          "data": {
            "text/plain": [
              "(120895, 2)"
            ]
          },
          "metadata": {
            "tags": []
          },
          "execution_count": 199
        }
      ]
    },
    {
      "cell_type": "code",
      "metadata": {
        "id": "hMwhnziPeY9I",
        "colab_type": "code",
        "outputId": "2e515420-700f-4495-a294-6c9a7b9417ce",
        "colab": {
          "base_uri": "https://localhost:8080/",
          "height": 34
        }
      },
      "source": [
        "result_aux = pd.merge(ds_cc,ds_p,on='IdConsultora')\n",
        "result_aux.shape"
      ],
      "execution_count": 0,
      "outputs": [
        {
          "output_type": "execute_result",
          "data": {
            "text/plain": [
              "(1484805, 21)"
            ]
          },
          "metadata": {
            "tags": []
          },
          "execution_count": 200
        }
      ]
    },
    {
      "cell_type": "code",
      "metadata": {
        "id": "scwnql4so0KL",
        "colab_type": "code",
        "colab": {}
      },
      "source": [
        "ds_consultora = pd.read_csv(\"maestro_consultora.csv\",index_col=None)\n",
        "ds_consultora = ds_consultora.drop_duplicates()\n",
        "reduce_memory(ds_consultora)\n",
        "ds_consultora = ds_consultora.drop(columns=['flagcorreovalidad', 'Unnamed: 0'])"
      ],
      "execution_count": 0,
      "outputs": []
    },
    {
      "cell_type": "code",
      "metadata": {
        "id": "6ENFYTYwo2Xn",
        "colab_type": "code",
        "outputId": "30a25be5-f5d8-44f0-edf7-128f86f5f90c",
        "colab": {
          "base_uri": "https://localhost:8080/",
          "height": 255
        }
      },
      "source": [
        "ds_consultora.info()"
      ],
      "execution_count": 0,
      "outputs": [
        {
          "output_type": "stream",
          "text": [
            "<class 'pandas.core.frame.DataFrame'>\n",
            "Int64Index: 123740 entries, 0 to 123739\n",
            "Data columns (total 9 columns):\n",
            "campanaingreso           123740 non-null int32\n",
            "campanaultimopedido      123740 non-null int32\n",
            "IdConsultora             123740 non-null int32\n",
            "estadocivil              123734 non-null object\n",
            "flagsupervisor           123740 non-null int8\n",
            "campanaprimerpedido      123739 non-null float32\n",
            "flagconsultoradigital    123740 non-null int8\n",
            "edad                     123740 non-null int8\n",
            "flagcelularvalidado      123740 non-null int8\n",
            "dtypes: float32(1), int32(3), int8(4), object(1)\n",
            "memory usage: 4.2+ MB\n"
          ],
          "name": "stdout"
        }
      ]
    },
    {
      "cell_type": "code",
      "metadata": {
        "id": "S-2EyvobokK2",
        "colab_type": "code",
        "outputId": "72314da5-7a82-419b-d1b8-72271a547e0c",
        "colab": {
          "base_uri": "https://localhost:8080/",
          "height": 34
        }
      },
      "source": [
        "result = pd.merge(ds_consultora,result_aux,on='IdConsultora')\n",
        "result.shape"
      ],
      "execution_count": 0,
      "outputs": [
        {
          "output_type": "execute_result",
          "data": {
            "text/plain": [
              "(1484805, 29)"
            ]
          },
          "metadata": {
            "tags": []
          },
          "execution_count": 203
        }
      ]
    },
    {
      "cell_type": "code",
      "metadata": {
        "id": "li9LTu3upCM9",
        "colab_type": "code",
        "outputId": "4b7fa843-74dc-48b3-9622-2b75adad9580",
        "colab": {
          "base_uri": "https://localhost:8080/",
          "height": 595
        }
      },
      "source": [
        "result.info()"
      ],
      "execution_count": 0,
      "outputs": [
        {
          "output_type": "stream",
          "text": [
            "<class 'pandas.core.frame.DataFrame'>\n",
            "Int64Index: 1484805 entries, 0 to 1484804\n",
            "Data columns (total 29 columns):\n",
            "campanaingreso                       1484805 non-null int32\n",
            "campanaultimopedido                  1484805 non-null int32\n",
            "IdConsultora                         1484805 non-null int32\n",
            "estadocivil                          1484705 non-null object\n",
            "flagsupervisor                       1484805 non-null int8\n",
            "campanaprimerpedido                  1484787 non-null float32\n",
            "flagconsultoradigital                1484805 non-null int8\n",
            "edad                                 1484805 non-null int8\n",
            "flagcelularvalidado                  1484805 non-null int8\n",
            "campana                              1484805 non-null int32\n",
            "Flagpasopedido                       1484805 non-null int8\n",
            "flagactiva                           1484805 non-null int8\n",
            "flagpasopedidocuidadopersonal        1484805 non-null float32\n",
            "flagpasopedidomaquillaje             1484805 non-null float32\n",
            "flagpasopedidotratamientocorporal    1484805 non-null float32\n",
            "flagpasopedidotratamientofacial      1484805 non-null float32\n",
            "flagpedidoanulado                    1484805 non-null float32\n",
            "flagpasopedidofragancias             1484805 non-null float32\n",
            "codigofactura                        1028979 non-null object\n",
            "evaluacion_nuevas                    1484802 non-null object\n",
            "segmentacion                         1484805 non-null object\n",
            "flagpasopedidoweb                    1484805 non-null float32\n",
            "cantidadlogueos                      1245123 non-null float32\n",
            "flagdispositivo                      1484805 non-null int8\n",
            "flagdigital                          1393897 non-null float32\n",
            "flagofertadigital                    1484805 non-null float32\n",
            "flagsuscripcion                      1484805 non-null int8\n",
            "geografia                            1484805 non-null object\n",
            "flagpasopedido                       0 non-null float32\n",
            "dtypes: float32(12), int32(4), int8(8), object(5)\n",
            "memory usage: 169.9+ MB\n"
          ],
          "name": "stdout"
        }
      ]
    },
    {
      "cell_type": "code",
      "metadata": {
        "id": "uX6s5YUUpMk8",
        "colab_type": "code",
        "colab": {}
      },
      "source": [
        "result_v1 = result[[\n",
        "\"campanaingreso\",\n",
        "\"campanaultimopedido\",\n",
        "\"IdConsultora\",\n",
        "\"campanaprimerpedido\",\n",
        "\"campana\",\n",
        "\"Flagpasopedido\",\n",
        "\"flagactiva\",\n",
        "\"cantidadlogueos\"\n",
        "]].sort_values(by=['IdConsultora','campana'])\n"
      ],
      "execution_count": 0,
      "outputs": []
    },
    {
      "cell_type": "code",
      "metadata": {
        "id": "K3dO5G9zgAtl",
        "colab_type": "code",
        "colab": {}
      },
      "source": [
        "result_max = result_v1.groupby(['IdConsultora'])['campanaultimopedido'].max()\n",
        "result_max = result_max.to_frame()"
      ],
      "execution_count": 0,
      "outputs": []
    },
    {
      "cell_type": "code",
      "metadata": {
        "id": "tUNcGvZ5sSDY",
        "colab_type": "code",
        "colab": {}
      },
      "source": [
        "data_result = []\n",
        "for i in result_max.loc[result_max[\"campanaultimopedido\"]<=201906].index.values:\n",
        "  data_result.append({\"IdConsultora\":i,\"Flagpasopedido_fijo\":0})\n",
        "\n",
        "for i in result_max.loc[result_max[\"campanaultimopedido\"]==201907].index.values:\n",
        "  data_result.append({\"IdConsultora\":i,\"Flagpasopedido_fijo\":1})\n"
      ],
      "execution_count": 0,
      "outputs": []
    },
    {
      "cell_type": "code",
      "metadata": {
        "id": "BNOammiPw1kL",
        "colab_type": "code",
        "colab": {}
      },
      "source": [
        "df_fijo = pd.DataFrame(data_result)"
      ],
      "execution_count": 0,
      "outputs": []
    },
    {
      "cell_type": "code",
      "metadata": {
        "id": "-0VCDncTzlP1",
        "colab_type": "code",
        "outputId": "bceccd88-a077-4ac7-9869-7dc49e0d7d96",
        "colab": {
          "base_uri": "https://localhost:8080/",
          "height": 34
        }
      },
      "source": [
        "\"porcentaje:{}, valores_encontrados:{}, total:{} \".format(df_fijo.shape[0]/ds_p.shape[0]*100,df_fijo.shape[0], ds_p.shape[0])"
      ],
      "execution_count": 0,
      "outputs": [
        {
          "output_type": "execute_result",
          "data": {
            "text/plain": [
              "'porcentaje:45.13503453409984, valores_encontrados:54566, total:120895 '"
            ]
          },
          "metadata": {
            "tags": []
          },
          "execution_count": 209
        }
      ]
    },
    {
      "cell_type": "code",
      "metadata": {
        "id": "snw1a2rhzI9l",
        "colab_type": "code",
        "colab": {}
      },
      "source": [
        "result_l = pd.merge(result,\n",
        "                 df_fijo,\n",
        "                 on='IdConsultora', \n",
        "                 how='left')\n",
        "result_res = result_l.loc[result_l[\"Flagpasopedido_fijo\"].notnull() == False]"
      ],
      "execution_count": 0,
      "outputs": []
    },
    {
      "cell_type": "code",
      "metadata": {
        "id": "JM1lnAAFzI21",
        "colab_type": "code",
        "colab": {}
      },
      "source": [
        "result_18 = result_res.groupby(['IdConsultora'])['Flagpasopedido'].min().to_frame()\n",
        "\n",
        "for i in result_18.loc[result_18[\"Flagpasopedido\"]==1].index.values:\n",
        "  data_result.append({\"IdConsultora\":i,\"Flagpasopedido_fijo\":1})"
      ],
      "execution_count": 0,
      "outputs": []
    },
    {
      "cell_type": "code",
      "metadata": {
        "id": "ivgxKEZM8Qu7",
        "colab_type": "code",
        "outputId": "a0ffee89-7855-46fd-e7dd-93b457435382",
        "colab": {
          "base_uri": "https://localhost:8080/",
          "height": 34
        }
      },
      "source": [
        "\"porcentaje:{}, valores_encontrados:{}, total:{} \".format(len(data_result)/ds_p.shape[0]*100,len(data_result), ds_p.shape[0])"
      ],
      "execution_count": 0,
      "outputs": [
        {
          "output_type": "execute_result",
          "data": {
            "text/plain": [
              "'porcentaje:72.1055461350759, valores_encontrados:87172, total:120895 '"
            ]
          },
          "metadata": {
            "tags": []
          },
          "execution_count": 212
        }
      ]
    },
    {
      "cell_type": "code",
      "metadata": {
        "id": "HVluczYNzIv8",
        "colab_type": "code",
        "colab": {}
      },
      "source": [
        "df_fijo2 = pd.DataFrame(data_result)\n",
        "result_l1 = pd.merge(result,\n",
        "                 df_fijo2,\n",
        "                 on='IdConsultora', \n",
        "                 how='left')\n",
        "result_res1 = result_l1.loc[result_l1[\"Flagpasopedido_fijo\"].notnull() == False]"
      ],
      "execution_count": 0,
      "outputs": []
    },
    {
      "cell_type": "code",
      "metadata": {
        "id": "lAImfyCoIo6O",
        "colab_type": "code",
        "outputId": "987c21f2-ebe7-4e51-e49d-8f6b29e92564",
        "colab": {
          "base_uri": "https://localhost:8080/",
          "height": 170
        }
      },
      "source": [
        "cant = 0\n",
        "cant_5 = 0\n",
        "cant_t = 0\n",
        "result_res1[\"unos\"] = 1\n",
        "for k,r in result_res1.groupby(['IdConsultora','campanaultimopedido'])['unos','Flagpasopedido'].sum().iterrows():\n",
        "  prom = r[\"Flagpasopedido\"]/ r[\"unos\"]\n",
        "  if prom >= 0.70 and k[1] >=201909: # 1\n",
        "    cant += 1\n",
        "    data_result.append({\"IdConsultora\":k[0],\"Flagpasopedido_fijo\":1})\n",
        "  elif prom <= 0.50 and k[1] <201905: # 0\n",
        "    data_result.append({\"IdConsultora\":k[0],\"Flagpasopedido_fijo\":0})\n",
        "    cant_5 += 1\n",
        "  cant_t += 1 \n",
        "  \n",
        "print(cant)\n",
        "print(cant_5)\n",
        "print(cant_t)"
      ],
      "execution_count": 0,
      "outputs": [
        {
          "output_type": "stream",
          "text": [
            "/usr/local/lib/python3.6/dist-packages/ipykernel_launcher.py:4: SettingWithCopyWarning: \n",
            "A value is trying to be set on a copy of a slice from a DataFrame.\n",
            "Try using .loc[row_indexer,col_indexer] = value instead\n",
            "\n",
            "See the caveats in the documentation: http://pandas.pydata.org/pandas-docs/stable/indexing.html#indexing-view-versus-copy\n",
            "  after removing the cwd from sys.path.\n"
          ],
          "name": "stderr"
        },
        {
          "output_type": "stream",
          "text": [
            "21012\n",
            "0\n",
            "33723\n"
          ],
          "name": "stdout"
        }
      ]
    },
    {
      "cell_type": "code",
      "metadata": {
        "id": "BpKWwSSWNgcA",
        "colab_type": "code",
        "outputId": "8f2bd130-20f3-4df9-f819-94f9badd5f04",
        "colab": {
          "base_uri": "https://localhost:8080/",
          "height": 34
        }
      },
      "source": [
        "#len(data_result)\n",
        "\"porcentaje:{}, valores_encontrados:{}, total:{} \".format(len(data_result)/ds_p.shape[0]*100,len(data_result), ds_p.shape[0])"
      ],
      "execution_count": 0,
      "outputs": [
        {
          "output_type": "execute_result",
          "data": {
            "text/plain": [
              "'porcentaje:89.48591753174242, valores_encontrados:108184, total:120895 '"
            ]
          },
          "metadata": {
            "tags": []
          },
          "execution_count": 215
        }
      ]
    },
    {
      "cell_type": "code",
      "metadata": {
        "id": "-9qMvjx2HpMg",
        "colab_type": "code",
        "colab": {}
      },
      "source": [
        "df_fijo3 = pd.DataFrame(data_result)\n",
        "result_l2 = pd.merge(result,\n",
        "                 df_fijo3,\n",
        "                 on='IdConsultora', \n",
        "                 how='left')\n",
        "result_res2 = result_l2.loc[result_l2[\"Flagpasopedido_fijo\"].notnull() == False]"
      ],
      "execution_count": 0,
      "outputs": []
    },
    {
      "cell_type": "code",
      "metadata": {
        "id": "4pOnWySJHpI1",
        "colab_type": "code",
        "outputId": "921224b4-6f81-4371-92e6-2ef03e373ab9",
        "colab": {
          "base_uri": "https://localhost:8080/",
          "height": 34
        }
      },
      "source": [
        "result_res2.shape"
      ],
      "execution_count": 0,
      "outputs": [
        {
          "output_type": "execute_result",
          "data": {
            "text/plain": [
              "(194329, 30)"
            ]
          },
          "metadata": {
            "tags": []
          },
          "execution_count": 217
        }
      ]
    },
    {
      "cell_type": "code",
      "metadata": {
        "id": "pSh-dsKHHpBl",
        "colab_type": "code",
        "colab": {}
      },
      "source": [
        "result_res2.sort_values(by=['IdConsultora','campana']).to_csv(\"result_res2.csv\")"
      ],
      "execution_count": 0,
      "outputs": []
    },
    {
      "cell_type": "code",
      "metadata": {
        "id": "fad1KwYSHo9i",
        "colab_type": "code",
        "colab": {}
      },
      "source": [
        "result_res3 = result_res2.loc[((result_res2[\"campana\"]>=201905) | (result_res2[\"campana\"]<=201807)) & (result_res2[\"campanaultimopedido\"]>=201915)].groupby([\"IdConsultora\"])[\"Flagpasopedido\"].sum().to_frame()\n",
        "\n",
        "for k, v in result_res3.loc[result_res3[\"Flagpasopedido\"]==3].iterrows():\n",
        "  data_result.append({\"IdConsultora\":k,\"Flagpasopedido_fijo\":1})"
      ],
      "execution_count": 0,
      "outputs": []
    },
    {
      "cell_type": "code",
      "metadata": {
        "id": "JHAdbLyfOYAK",
        "colab_type": "code",
        "outputId": "cfceb10a-2762-44ae-cc9e-86c4722355c3",
        "colab": {
          "base_uri": "https://localhost:8080/",
          "height": 34
        }
      },
      "source": [
        "len(data_result)\n",
        "\"porcentaje:{}, valores_encontrados:{}, total:{} \".format(len(data_result)/ds_p.shape[0]*100,len(data_result), ds_p.shape[0])"
      ],
      "execution_count": 0,
      "outputs": [
        {
          "output_type": "execute_result",
          "data": {
            "text/plain": [
              "'porcentaje:89.85069688572729, valores_encontrados:108625, total:120895 '"
            ]
          },
          "metadata": {
            "tags": []
          },
          "execution_count": 220
        }
      ]
    },
    {
      "cell_type": "code",
      "metadata": {
        "id": "bhch3cTlOX79",
        "colab_type": "code",
        "colab": {}
      },
      "source": [
        "df_fijo4 = pd.DataFrame(data_result)\n",
        "result_l3 = pd.merge(result,\n",
        "                 df_fijo4,\n",
        "                 on='IdConsultora', \n",
        "                 how='left')\n",
        "result_res4 = result_l3.loc[result_l3[\"Flagpasopedido_fijo\"].notnull() == False]\n",
        "result_res4 = result_res4.sort_values(by=['IdConsultora','campana'])\n",
        "result_res4.to_csv(\"result_res2.csv\")"
      ],
      "execution_count": 0,
      "outputs": []
    },
    {
      "cell_type": "code",
      "metadata": {
        "id": "CxJ2-fbhOX6L",
        "colab_type": "code",
        "colab": {}
      },
      "source": [
        "result_l5 = result_res4[[\n",
        "    \"campanaultimopedido\",\n",
        "    \"IdConsultora\",\n",
        "    \"estadocivil\",\n",
        "    \"campanaprimerpedido\",\n",
        "    \"edad\",\n",
        "    \"flagcelularvalidado\",\n",
        "    \"campana\",\n",
        "    \"Flagpasopedido\",\n",
        "    \"flagactiva\",\n",
        "    \"evaluacion_nuevas\",\n",
        "    \"segmentacion\",\n",
        "    \"flagpasopedidoweb\"\n",
        "\n",
        "]].sort_values(by=['IdConsultora','campana'])\n",
        "\n",
        "result_l5[\"uno\"] = 1\n",
        "\n",
        "#temp = []\n",
        "for k,r in result_l5.groupby(['IdConsultora'])['uno','Flagpasopedido',\"flagactiva\"].sum().iterrows():\n",
        "  porc_ped = r[\"flagactiva\"] / r[\"uno\"]\n",
        "  porc_act = r[\"Flagpasopedido\"] / r[\"flagactiva\"]\n",
        "\n",
        "  if porc_ped >= 0.90 and porc_act >= 0.9: # 1\n",
        "    data_result.append({\"IdConsultora\":k,\"Flagpasopedido_fijo\":1})\n",
        "  if porc_ped <= 0.60 and porc_act <= 0.6: # 0\n",
        "    data_result.append({\"IdConsultora\":k,\"Flagpasopedido_fijo\":0})\n",
        "  \n",
        "#print(len(temp))"
      ],
      "execution_count": 0,
      "outputs": []
    },
    {
      "cell_type": "code",
      "metadata": {
        "id": "9eOatv7m6b3r",
        "colab_type": "code",
        "outputId": "0529acfe-7438-41ff-9afb-0c3218b918d0",
        "colab": {
          "base_uri": "https://localhost:8080/",
          "height": 34
        }
      },
      "source": [
        "len(data_result)\n",
        "\"porcentaje:{}, valores_encontrados:{}, total:{} \".format(len(data_result)/ds_p.shape[0]*100,len(data_result), ds_p.shape[0])"
      ],
      "execution_count": 0,
      "outputs": [
        {
          "output_type": "execute_result",
          "data": {
            "text/plain": [
              "'porcentaje:90.98970180735348, valores_encontrados:110002, total:120895 '"
            ]
          },
          "metadata": {
            "tags": []
          },
          "execution_count": 223
        }
      ]
    },
    {
      "cell_type": "code",
      "metadata": {
        "id": "PcBKyWtE6bwZ",
        "colab_type": "code",
        "outputId": "852e044e-2a69-44dd-8a4f-5c659182aa7f",
        "colab": {
          "base_uri": "https://localhost:8080/",
          "height": 34
        }
      },
      "source": [
        "df_fijo5 = pd.DataFrame(data_result)\n",
        "result_temp5 = pd.merge(result,\n",
        "                 df_fijo5,\n",
        "                 on='IdConsultora', \n",
        "                 how='left')\n",
        "result_res5 = result_temp5.loc[result_temp5[\"Flagpasopedido_fijo\"].notnull() == False]\n",
        "result_res5 = result_res5.sort_values(by=['IdConsultora','campana'])\n",
        "result_res5.to_csv(\"result_res5.csv\")\n",
        "len(list(set(result_res5[\"IdConsultora\"].values)))"
      ],
      "execution_count": 0,
      "outputs": [
        {
          "output_type": "execute_result",
          "data": {
            "text/plain": [
              "10893"
            ]
          },
          "metadata": {
            "tags": []
          },
          "execution_count": 224
        }
      ]
    },
    {
      "cell_type": "code",
      "metadata": {
        "id": "nw9vN5Q_6btX",
        "colab_type": "code",
        "colab": {}
      },
      "source": [
        "result_l6 = result_res5[[\n",
        "    \"campanaultimopedido\",\n",
        "    \"IdConsultora\",\n",
        "    \"estadocivil\",\n",
        "    \"campanaprimerpedido\",\n",
        "    \"edad\",\n",
        "    \"flagcelularvalidado\",\n",
        "    \"campana\",\n",
        "    \"Flagpasopedido\",\n",
        "    \"flagactiva\",\n",
        "    \"evaluacion_nuevas\",\n",
        "    \"segmentacion\",\n",
        "    \"flagpasopedidoweb\"\n",
        "\n",
        "]].sort_values(by=['IdConsultora','campana'])\n",
        "\n",
        "#temp=[]\n",
        "for k,r in result_l6.loc[result_l6[\"campana\"]>=201904].groupby([\"IdConsultora\"])[\"Flagpasopedido\",\"flagactiva\"].sum().iterrows():\n",
        "  if r[\"Flagpasopedido\"] >= 3 and r[\"flagactiva\"] >= 3: # 1\n",
        "    data_result.append({\"IdConsultora\":k,\"Flagpasopedido_fijo\":1})\n",
        "  if r[\"Flagpasopedido\"] == 0 and r[\"flagactiva\"] in [0,1,2]: # 0\n",
        "    data_result.append({\"IdConsultora\":k,\"Flagpasopedido_fijo\":0})\n",
        "  \n",
        "#print(len(temp))"
      ],
      "execution_count": 0,
      "outputs": []
    },
    {
      "cell_type": "code",
      "metadata": {
        "id": "ggqGV-pi6bnH",
        "colab_type": "code",
        "outputId": "c003f242-8bc7-48b2-bc48-f2add3eb792d",
        "colab": {
          "base_uri": "https://localhost:8080/",
          "height": 34
        }
      },
      "source": [
        "len(data_result)\n",
        "\"porcentaje:{}, valores_encontrados:{}, total:{} \".format(len(data_result)/ds_p.shape[0]*100,len(data_result), ds_p.shape[0])"
      ],
      "execution_count": 0,
      "outputs": [
        {
          "output_type": "execute_result",
          "data": {
            "text/plain": [
              "'porcentaje:94.44559328342777, valores_encontrados:114180, total:120895 '"
            ]
          },
          "metadata": {
            "tags": []
          },
          "execution_count": 226
        }
      ]
    },
    {
      "cell_type": "code",
      "metadata": {
        "id": "GdGMwXBE6bje",
        "colab_type": "code",
        "outputId": "5fd18884-7a0f-4a16-c1d2-8a5dc3be0341",
        "colab": {
          "base_uri": "https://localhost:8080/",
          "height": 34
        }
      },
      "source": [
        "df_fijo6 = pd.DataFrame(data_result)\n",
        "result_temp6 = pd.merge(result,\n",
        "                 df_fijo6,\n",
        "                 on='IdConsultora', \n",
        "                 how='left')\n",
        "result_res6 = result_temp6.loc[result_temp6[\"Flagpasopedido_fijo\"].notnull() == False]\n",
        "result_res6 = result_res6.sort_values(by=['IdConsultora','campana'])\n",
        "result_res6.to_csv(\"result_res6.csv\")\n",
        "len(list(set(result_res6[\"IdConsultora\"].values)))"
      ],
      "execution_count": 0,
      "outputs": [
        {
          "output_type": "execute_result",
          "data": {
            "text/plain": [
              "6715"
            ]
          },
          "metadata": {
            "tags": []
          },
          "execution_count": 227
        }
      ]
    },
    {
      "cell_type": "code",
      "metadata": {
        "id": "h2Iiu2OF6bgT",
        "colab_type": "code",
        "outputId": "3a817492-e3fc-4302-d140-b8a2db52a008",
        "colab": {
          "base_uri": "https://localhost:8080/",
          "height": 71
        }
      },
      "source": [
        "ds_fuerzaventa = pd.read_csv(\"dtt_fvta_cl.csv\")\n",
        "reduce_memory(ds_fuerzaventa)"
      ],
      "execution_count": 0,
      "outputs": [
        {
          "output_type": "stream",
          "text": [
            "/usr/local/lib/python3.6/dist-packages/IPython/core/interactiveshell.py:2718: DtypeWarning: Columns (8) have mixed types. Specify dtype option on import or set low_memory=False.\n",
            "  interactivity=interactivity, compiler=compiler, result=result)\n"
          ],
          "name": "stderr"
        }
      ]
    },
    {
      "cell_type": "code",
      "metadata": {
        "id": "zIUNdXcu6bcf",
        "colab_type": "code",
        "outputId": "ba227e2a-bf6d-4d65-eef3-0829a5463eb8",
        "colab": {
          "base_uri": "https://localhost:8080/",
          "height": 51
        }
      },
      "source": [
        "ds_fuerzaventa.columns = ['campana', 'IdConsultora', 'codigotipooferta', 'descuento', 'ahorro',\n",
        "       'canalingresoproducto', 'idproducto', 'codigopalancapersonalizacion',\n",
        "       'palancapersonalizacion', 'preciocatalogo', 'grupooferta',\n",
        "       'realanulmnneto', 'realdevmnneto', 'realuuanuladas', 'realuudevueltas',\n",
        "       'realuufaltantes', 'realuuvendidas', 'realvtamnfaltneto',\n",
        "       'realvtamnneto', 'realvtamncatalogo', 'realvtamnfaltcatalogo']\n",
        "\n",
        "result_fv = ds_fuerzaventa.groupby(['IdConsultora','campana'])['ahorro','realuuanuladas','realuudevueltas','realuufaltantes','realuuvendidas','realvtamnneto'].mean()\n",
        "result_fv = result_fv.reset_index()\n",
        "\n",
        "result_aux7 = pd.merge(result_res6,result_fv,how='left',on=['IdConsultora','campana']).fillna(0)\n",
        "print(result_aux7.shape)\n",
        "print(len(list(set(result_aux7[\"IdConsultora\"].values))))\n",
        "result_aux7.to_csv(\"result_aux7.csv\")"
      ],
      "execution_count": 0,
      "outputs": [
        {
          "output_type": "stream",
          "text": [
            "(101986, 36)\n",
            "6715\n"
          ],
          "name": "stdout"
        }
      ]
    },
    {
      "cell_type": "code",
      "metadata": {
        "id": "dWW_LdaDXCnY",
        "colab_type": "code",
        "colab": {}
      },
      "source": [
        "result_l7 = result_aux7[[\n",
        "    \"IdConsultora\",\"estadocivil\",\"campanaprimerpedido\",\"edad\",\"campana\",\"Flagpasopedido\",\"flagactiva\",\n",
        "    \"evaluacion_nuevas\",\"segmentacion\",\"ahorro\",\"realuuanuladas\",\"realuudevueltas\",\"realuufaltantes\",\"realuuvendidas\",\"realvtamnneto\"\n",
        "]].sort_values(by=['IdConsultora','campana'])\n",
        "result_l7[\"uno\"] = 1\n",
        "\n",
        "for k,r in result_l7.loc[result_l7[\"campana\"]>=201904].groupby([\"IdConsultora\"])[\"uno\",\"Flagpasopedido\",\"flagactiva\",\"realuufaltantes\",\"realvtamnneto\",\"realuudevueltas\",\"realuuvendidas\",\"realuuanuladas\"].sum().iterrows():\n",
        "  prom_a = r[\"flagactiva\"]/r[\"uno\"]\n",
        "  prom_p = r[\"Flagpasopedido\"]/r[\"flagactiva\"]\n",
        "  if prom_p >= 1 and prom_a > 0.5 and r[\"realuuvendidas\"] > 1:        \n",
        "    data_result.append({\"IdConsultora\":k,\"Flagpasopedido_fijo\":1})\n",
        "  if prom_p < 1 and   r[\"realuuvendidas\"] <= 1:\n",
        "    data_result.append({\"IdConsultora\":k,\"Flagpasopedido_fijo\":0}) \n",
        "  "
      ],
      "execution_count": 0,
      "outputs": []
    },
    {
      "cell_type": "code",
      "metadata": {
        "id": "Xhwe4E5e6bS5",
        "colab_type": "code",
        "outputId": "9d3b5983-cbf0-46c4-b9bf-69e9771568f9",
        "colab": {
          "base_uri": "https://localhost:8080/",
          "height": 34
        }
      },
      "source": [
        "len(data_result)\n",
        "\"porcentaje:{}, valores_encontrados:{}, total:{} \".format(len(data_result)/ds_p.shape[0]*100,len(data_result), ds_p.shape[0])"
      ],
      "execution_count": 0,
      "outputs": [
        {
          "output_type": "execute_result",
          "data": {
            "text/plain": [
              "'porcentaje:95.99239009057446, valores_encontrados:116050, total:120895 '"
            ]
          },
          "metadata": {
            "tags": []
          },
          "execution_count": 231
        }
      ]
    },
    {
      "cell_type": "code",
      "metadata": {
        "id": "bFGI1Pv7jFhj",
        "colab_type": "code",
        "outputId": "368834bd-1e82-4a77-a47e-c2e3f8d0383f",
        "colab": {
          "base_uri": "https://localhost:8080/",
          "height": 34
        }
      },
      "source": [
        "df_fijo8 = pd.DataFrame(data_result) \n",
        "result_temp8 = pd.merge(result,df_fijo8, on='IdConsultora', how='left')\n",
        "result_temp8 = result_temp8.loc[result_temp8[\"Flagpasopedido_fijo\"].notnull() == False]\n",
        "result_temp8 = pd.merge(result_temp8,result_fv,how='left',on=['IdConsultora','campana'])\n",
        "result_res8 = result_temp8.sort_values(by=['IdConsultora','campana'])\n",
        "result_res8.fillna(0).to_csv(\"result_res8.csv\")\n",
        "len(list(set(result_res8[\"IdConsultora\"].values)))"
      ],
      "execution_count": 0,
      "outputs": [
        {
          "output_type": "execute_result",
          "data": {
            "text/plain": [
              "4845"
            ]
          },
          "metadata": {
            "tags": []
          },
          "execution_count": 240
        }
      ]
    },
    {
      "cell_type": "code",
      "metadata": {
        "id": "rd_RkyAUjFcw",
        "colab_type": "code",
        "colab": {}
      },
      "source": [
        "result_l8 = result_res8[[\n",
        "    \"IdConsultora\",\"estadocivil\",\"campanaprimerpedido\",\"edad\",\"campana\",\"Flagpasopedido\",\"flagactiva\",\n",
        "    \"evaluacion_nuevas\",\"segmentacion\",\"ahorro\",\"realuuanuladas\",\"realuudevueltas\",\"realuufaltantes\",\"realuuvendidas\",\"realvtamnneto\"\n",
        "]].sort_values(by=['IdConsultora','campana'])\n",
        "result_l8[\"uno\"] = 1\n",
        "\n",
        "result_l8 = result_l8.loc[result_l8[\"campana\"]>=201904].groupby([\"IdConsultora\"])[\"Flagpasopedido\",\"flagactiva\",\"realuuvendidas\"].sum()\n",
        "result_l8 = result_l8.reset_index()\n",
        "\n",
        "for k,r in result_l8.iterrows():\n",
        "  if r[\"Flagpasopedido\"] == 2 and r[\"flagactiva\"] == 3:        \n",
        "    data_result.append({\"IdConsultora\":k,\"Flagpasopedido_fijo\":1})\n",
        "  elif r[\"Flagpasopedido\"] == 1 and r[\"flagactiva\"] == 3:        \n",
        "    data_result.append({\"IdConsultora\":k,\"Flagpasopedido_fijo\":0}) \n",
        "\n"
      ],
      "execution_count": 0,
      "outputs": []
    },
    {
      "cell_type": "code",
      "metadata": {
        "id": "1rxNKCR3jFWe",
        "colab_type": "code",
        "outputId": "d4280d37-f5cb-48e3-eedc-8762d82fa74e",
        "colab": {
          "base_uri": "https://localhost:8080/",
          "height": 34
        }
      },
      "source": [
        "len(data_result)\n",
        "\"porcentaje:{}, valores_encontrados:{}, total:{} \".format(len(data_result)/ds_p.shape[0]*100,len(data_result), ds_p.shape[0])"
      ],
      "execution_count": 0,
      "outputs": [
        {
          "output_type": "execute_result",
          "data": {
            "text/plain": [
              "'porcentaje:97.90562057984201, valores_encontrados:118363, total:120895 '"
            ]
          },
          "metadata": {
            "tags": []
          },
          "execution_count": 247
        }
      ]
    },
    {
      "cell_type": "code",
      "metadata": {
        "id": "ESRLY-1gjFQw",
        "colab_type": "code",
        "outputId": "51e0dffb-192c-4fbf-c60a-d6b9e1f65183",
        "colab": {
          "base_uri": "https://localhost:8080/",
          "height": 80
        }
      },
      "source": [
        "result_l8.loc[result_l8[\"IdConsultora\"]==363409]"
      ],
      "execution_count": 0,
      "outputs": [
        {
          "output_type": "execute_result",
          "data": {
            "text/html": [
              "<div>\n",
              "<style scoped>\n",
              "    .dataframe tbody tr th:only-of-type {\n",
              "        vertical-align: middle;\n",
              "    }\n",
              "\n",
              "    .dataframe tbody tr th {\n",
              "        vertical-align: top;\n",
              "    }\n",
              "\n",
              "    .dataframe thead th {\n",
              "        text-align: right;\n",
              "    }\n",
              "</style>\n",
              "<table border=\"1\" class=\"dataframe\">\n",
              "  <thead>\n",
              "    <tr style=\"text-align: right;\">\n",
              "      <th></th>\n",
              "      <th>IdConsultora</th>\n",
              "      <th>Flagpasopedido</th>\n",
              "      <th>flagactiva</th>\n",
              "      <th>realuuvendidas</th>\n",
              "    </tr>\n",
              "  </thead>\n",
              "  <tbody>\n",
              "    <tr>\n",
              "      <th>864</th>\n",
              "      <td>363409</td>\n",
              "      <td>2</td>\n",
              "      <td>3</td>\n",
              "      <td>2.448052</td>\n",
              "    </tr>\n",
              "  </tbody>\n",
              "</table>\n",
              "</div>"
            ],
            "text/plain": [
              "     IdConsultora  Flagpasopedido  flagactiva  realuuvendidas\n",
              "864        363409               2           3        2.448052"
            ]
          },
          "metadata": {
            "tags": []
          },
          "execution_count": 250
        }
      ]
    },
    {
      "cell_type": "code",
      "metadata": {
        "id": "V38NwNhhjFKF",
        "colab_type": "code",
        "colab": {}
      },
      "source": [
        ""
      ],
      "execution_count": 0,
      "outputs": []
    },
    {
      "cell_type": "code",
      "metadata": {
        "id": "fBu7FR0KjFCn",
        "colab_type": "code",
        "colab": {}
      },
      "source": [
        ""
      ],
      "execution_count": 0,
      "outputs": []
    },
    {
      "cell_type": "code",
      "metadata": {
        "id": "L5TnJ2JFjE39",
        "colab_type": "code",
        "colab": {}
      },
      "source": [
        ""
      ],
      "execution_count": 0,
      "outputs": []
    },
    {
      "cell_type": "code",
      "metadata": {
        "id": "TQ5bbt4bjEpU",
        "colab_type": "code",
        "colab": {}
      },
      "source": [
        ""
      ],
      "execution_count": 0,
      "outputs": []
    },
    {
      "cell_type": "code",
      "metadata": {
        "id": "xHs-8RPGOX1r",
        "colab_type": "code",
        "colab": {}
      },
      "source": [
        "res_temp = pd.DataFrame(data_result)\n",
        "res_temp.to_csv(\"res_temp.csv\")"
      ],
      "execution_count": 0,
      "outputs": []
    },
    {
      "cell_type": "code",
      "metadata": {
        "id": "uPQVlTOZOXy1",
        "colab_type": "code",
        "colab": {}
      },
      "source": [
        ""
      ],
      "execution_count": 0,
      "outputs": []
    },
    {
      "cell_type": "code",
      "metadata": {
        "id": "t7V11EBCOXvF",
        "colab_type": "code",
        "colab": {}
      },
      "source": [
        ""
      ],
      "execution_count": 0,
      "outputs": []
    },
    {
      "cell_type": "code",
      "metadata": {
        "id": "Pl_PK_lpOXrf",
        "colab_type": "code",
        "colab": {}
      },
      "source": [
        ""
      ],
      "execution_count": 0,
      "outputs": []
    },
    {
      "cell_type": "code",
      "metadata": {
        "id": "9h8fIyyKHo4O",
        "colab_type": "code",
        "colab": {}
      },
      "source": [
        ""
      ],
      "execution_count": 0,
      "outputs": []
    },
    {
      "cell_type": "code",
      "metadata": {
        "id": "9NzXgUz-3xYI",
        "colab_type": "code",
        "colab": {}
      },
      "source": [
        ""
      ],
      "execution_count": 0,
      "outputs": []
    },
    {
      "cell_type": "code",
      "metadata": {
        "id": "NhNgw-FW3xRR",
        "colab_type": "code",
        "colab": {}
      },
      "source": [
        ""
      ],
      "execution_count": 0,
      "outputs": []
    },
    {
      "cell_type": "code",
      "metadata": {
        "id": "0ZfRScKq3xKC",
        "colab_type": "code",
        "colab": {}
      },
      "source": [
        ""
      ],
      "execution_count": 0,
      "outputs": []
    },
    {
      "cell_type": "code",
      "metadata": {
        "id": "xMSx0AKk3xC3",
        "colab_type": "code",
        "colab": {}
      },
      "source": [
        ""
      ],
      "execution_count": 0,
      "outputs": []
    },
    {
      "cell_type": "code",
      "metadata": {
        "id": "lEwOr2i33whg",
        "colab_type": "code",
        "colab": {}
      },
      "source": [
        ""
      ],
      "execution_count": 0,
      "outputs": []
    },
    {
      "cell_type": "code",
      "metadata": {
        "id": "5iR4X5WdzItL",
        "colab_type": "code",
        "colab": {}
      },
      "source": [
        ""
      ],
      "execution_count": 0,
      "outputs": []
    },
    {
      "cell_type": "code",
      "metadata": {
        "id": "7SqpGlBGzIp6",
        "colab_type": "code",
        "colab": {}
      },
      "source": [
        ""
      ],
      "execution_count": 0,
      "outputs": []
    },
    {
      "cell_type": "code",
      "metadata": {
        "id": "MxgpS_qszImJ",
        "colab_type": "code",
        "colab": {}
      },
      "source": [
        ""
      ],
      "execution_count": 0,
      "outputs": []
    },
    {
      "cell_type": "code",
      "metadata": {
        "id": "gf9NcPaJzIhu",
        "colab_type": "code",
        "colab": {}
      },
      "source": [
        ""
      ],
      "execution_count": 0,
      "outputs": []
    },
    {
      "cell_type": "code",
      "metadata": {
        "id": "C9fBgllqz1E6",
        "colab_type": "code",
        "outputId": "cd636e11-dbc2-43e5-b471-e799d5d0ed7a",
        "colab": {
          "base_uri": "https://localhost:8080/",
          "height": 231
        }
      },
      "source": [
        "d = {\n",
        "201807:1,\n",
        "201808:2,\n",
        "201809:3,\n",
        "201810:4,\n",
        "201811:5,\n",
        "201812:6,\n",
        "201813:7,\n",
        "201814:8,\n",
        "201815:9,\n",
        "201816:10,\n",
        "201817:11,\n",
        "201818:12,\n",
        "201901:13,\n",
        "201902:14,\n",
        "201903:15,\n",
        "201904:16,\n",
        "201905:17,\n",
        "201906:18\n",
        "}\n",
        "\n",
        "ds_cc['fch_campana'] = ds_cc['campana'].map(d)  \n",
        "#ds_cc.dtypes\n",
        "ds_cc = ds_cc.set_index('fch_campana')"
      ],
      "execution_count": 0,
      "outputs": [
        {
          "output_type": "error",
          "ename": "NameError",
          "evalue": "ignored",
          "traceback": [
            "\u001b[0;31m---------------------------------------------------------------------------\u001b[0m",
            "\u001b[0;31mNameError\u001b[0m                                 Traceback (most recent call last)",
            "\u001b[0;32m<ipython-input-7-7c1973ab48a8>\u001b[0m in \u001b[0;36m<module>\u001b[0;34m()\u001b[0m\n\u001b[1;32m     20\u001b[0m }\n\u001b[1;32m     21\u001b[0m \u001b[0;34m\u001b[0m\u001b[0m\n\u001b[0;32m---> 22\u001b[0;31m \u001b[0mds_cc\u001b[0m\u001b[0;34m[\u001b[0m\u001b[0;34m'fch_campana'\u001b[0m\u001b[0;34m]\u001b[0m \u001b[0;34m=\u001b[0m \u001b[0mds_cc\u001b[0m\u001b[0;34m[\u001b[0m\u001b[0;34m'campana'\u001b[0m\u001b[0;34m]\u001b[0m\u001b[0;34m.\u001b[0m\u001b[0mmap\u001b[0m\u001b[0;34m(\u001b[0m\u001b[0md\u001b[0m\u001b[0;34m)\u001b[0m\u001b[0;34m\u001b[0m\u001b[0;34m\u001b[0m\u001b[0m\n\u001b[0m\u001b[1;32m     23\u001b[0m \u001b[0;31m#ds_cc.dtypes\u001b[0m\u001b[0;34m\u001b[0m\u001b[0;34m\u001b[0m\u001b[0;34m\u001b[0m\u001b[0m\n\u001b[1;32m     24\u001b[0m \u001b[0mds_cc\u001b[0m \u001b[0;34m=\u001b[0m \u001b[0mds_cc\u001b[0m\u001b[0;34m.\u001b[0m\u001b[0mset_index\u001b[0m\u001b[0;34m(\u001b[0m\u001b[0;34m'fch_campana'\u001b[0m\u001b[0;34m)\u001b[0m\u001b[0;34m\u001b[0m\u001b[0;34m\u001b[0m\u001b[0m\n",
            "\u001b[0;31mNameError\u001b[0m: name 'ds_cc' is not defined"
          ]
        }
      ]
    },
    {
      "cell_type": "code",
      "metadata": {
        "id": "ni_-PRu4EmZn",
        "colab_type": "code",
        "outputId": "e92ebe24-1609-4db8-8797-1d6190bdd874",
        "colab": {
          "base_uri": "https://localhost:8080/",
          "height": 34
        }
      },
      "source": [
        "ds_cc.index.unique()"
      ],
      "execution_count": 0,
      "outputs": [
        {
          "output_type": "execute_result",
          "data": {
            "text/plain": [
              "Int64Index([1, 2, 3, 4, 5, 6, 7, 8, 9, 10, 11, 12, 13, 14, 15, 16, 17, 18], dtype='int64', name='fch_campana')"
            ]
          },
          "metadata": {
            "tags": []
          },
          "execution_count": 11
        }
      ]
    },
    {
      "cell_type": "code",
      "metadata": {
        "id": "0Mgg9rlP8PDg",
        "colab_type": "code",
        "outputId": "783bf135-b0a6-4c40-c073-3daf37154d5b",
        "colab": {
          "base_uri": "https://localhost:8080/",
          "height": 374
        }
      },
      "source": [
        "ds_cc.head()"
      ],
      "execution_count": 0,
      "outputs": [
        {
          "output_type": "execute_result",
          "data": {
            "text/html": [
              "<div>\n",
              "<style scoped>\n",
              "    .dataframe tbody tr th:only-of-type {\n",
              "        vertical-align: middle;\n",
              "    }\n",
              "\n",
              "    .dataframe tbody tr th {\n",
              "        vertical-align: top;\n",
              "    }\n",
              "\n",
              "    .dataframe thead th {\n",
              "        text-align: right;\n",
              "    }\n",
              "</style>\n",
              "<table border=\"1\" class=\"dataframe\">\n",
              "  <thead>\n",
              "    <tr style=\"text-align: right;\">\n",
              "      <th></th>\n",
              "      <th>campana</th>\n",
              "      <th>IdConsultora</th>\n",
              "      <th>Flagpasopedido</th>\n",
              "      <th>flagactiva</th>\n",
              "      <th>flagpasopedidocuidadopersonal</th>\n",
              "      <th>flagpasopedidomaquillaje</th>\n",
              "      <th>flagpasopedidotratamientocorporal</th>\n",
              "      <th>flagpasopedidotratamientofacial</th>\n",
              "      <th>flagpedidoanulado</th>\n",
              "      <th>flagpasopedidofragancias</th>\n",
              "      <th>codigofactura</th>\n",
              "      <th>evaluacion_nuevas</th>\n",
              "      <th>segmentacion</th>\n",
              "      <th>flagpasopedidoweb</th>\n",
              "      <th>cantidadlogueos</th>\n",
              "      <th>flagdispositivo</th>\n",
              "      <th>flagdigital</th>\n",
              "      <th>flagofertadigital</th>\n",
              "      <th>flagsuscripcion</th>\n",
              "      <th>geografia</th>\n",
              "    </tr>\n",
              "    <tr>\n",
              "      <th>fch_campana</th>\n",
              "      <th></th>\n",
              "      <th></th>\n",
              "      <th></th>\n",
              "      <th></th>\n",
              "      <th></th>\n",
              "      <th></th>\n",
              "      <th></th>\n",
              "      <th></th>\n",
              "      <th></th>\n",
              "      <th></th>\n",
              "      <th></th>\n",
              "      <th></th>\n",
              "      <th></th>\n",
              "      <th></th>\n",
              "      <th></th>\n",
              "      <th></th>\n",
              "      <th></th>\n",
              "      <th></th>\n",
              "      <th></th>\n",
              "      <th></th>\n",
              "    </tr>\n",
              "  </thead>\n",
              "  <tbody>\n",
              "    <tr>\n",
              "      <th>1</th>\n",
              "      <td>201807</td>\n",
              "      <td>21821</td>\n",
              "      <td>0</td>\n",
              "      <td>1</td>\n",
              "      <td>0.0</td>\n",
              "      <td>0.0</td>\n",
              "      <td>0.0</td>\n",
              "      <td>0.0</td>\n",
              "      <td>0.0</td>\n",
              "      <td>0.0</td>\n",
              "      <td>NaN</td>\n",
              "      <td>Est</td>\n",
              "      <td>Nivel5</td>\n",
              "      <td>0.0</td>\n",
              "      <td>NaN</td>\n",
              "      <td>0</td>\n",
              "      <td>NaN</td>\n",
              "      <td>0.0</td>\n",
              "      <td>0</td>\n",
              "      <td>15 SUR GRANDE</td>\n",
              "    </tr>\n",
              "    <tr>\n",
              "      <th>1</th>\n",
              "      <td>201807</td>\n",
              "      <td>81604</td>\n",
              "      <td>0</td>\n",
              "      <td>1</td>\n",
              "      <td>0.0</td>\n",
              "      <td>0.0</td>\n",
              "      <td>0.0</td>\n",
              "      <td>0.0</td>\n",
              "      <td>0.0</td>\n",
              "      <td>0.0</td>\n",
              "      <td>NaN</td>\n",
              "      <td>Est</td>\n",
              "      <td>Nivel2</td>\n",
              "      <td>0.0</td>\n",
              "      <td>0.0</td>\n",
              "      <td>0</td>\n",
              "      <td>NaN</td>\n",
              "      <td>0.0</td>\n",
              "      <td>1</td>\n",
              "      <td>17 SANTIAGO PONIENTE</td>\n",
              "    </tr>\n",
              "    <tr>\n",
              "      <th>1</th>\n",
              "      <td>201807</td>\n",
              "      <td>134091</td>\n",
              "      <td>1</td>\n",
              "      <td>1</td>\n",
              "      <td>1.0</td>\n",
              "      <td>1.0</td>\n",
              "      <td>1.0</td>\n",
              "      <td>0.0</td>\n",
              "      <td>0.0</td>\n",
              "      <td>1.0</td>\n",
              "      <td>WEB</td>\n",
              "      <td>Est</td>\n",
              "      <td>Nivel5</td>\n",
              "      <td>1.0</td>\n",
              "      <td>2.0</td>\n",
              "      <td>1</td>\n",
              "      <td>0.0</td>\n",
              "      <td>0.0</td>\n",
              "      <td>0</td>\n",
              "      <td>16 SUR AUSTRAL</td>\n",
              "    </tr>\n",
              "    <tr>\n",
              "      <th>1</th>\n",
              "      <td>201807</td>\n",
              "      <td>176046</td>\n",
              "      <td>0</td>\n",
              "      <td>0</td>\n",
              "      <td>0.0</td>\n",
              "      <td>0.0</td>\n",
              "      <td>0.0</td>\n",
              "      <td>0.0</td>\n",
              "      <td>0.0</td>\n",
              "      <td>0.0</td>\n",
              "      <td>NaN</td>\n",
              "      <td>Est</td>\n",
              "      <td>Nivel2</td>\n",
              "      <td>0.0</td>\n",
              "      <td>NaN</td>\n",
              "      <td>0</td>\n",
              "      <td>NaN</td>\n",
              "      <td>0.0</td>\n",
              "      <td>0</td>\n",
              "      <td>17 SANTIAGO PONIENTE</td>\n",
              "    </tr>\n",
              "    <tr>\n",
              "      <th>1</th>\n",
              "      <td>201807</td>\n",
              "      <td>204546</td>\n",
              "      <td>1</td>\n",
              "      <td>1</td>\n",
              "      <td>1.0</td>\n",
              "      <td>1.0</td>\n",
              "      <td>0.0</td>\n",
              "      <td>1.0</td>\n",
              "      <td>0.0</td>\n",
              "      <td>1.0</td>\n",
              "      <td>WEB</td>\n",
              "      <td>Est</td>\n",
              "      <td>Nivel4</td>\n",
              "      <td>1.0</td>\n",
              "      <td>3.0</td>\n",
              "      <td>1</td>\n",
              "      <td>0.0</td>\n",
              "      <td>0.0</td>\n",
              "      <td>0</td>\n",
              "      <td>11 NORTE GRANDE</td>\n",
              "    </tr>\n",
              "  </tbody>\n",
              "</table>\n",
              "</div>"
            ],
            "text/plain": [
              "             campana  IdConsultora  ...  flagsuscripcion             geografia\n",
              "fch_campana                         ...                                       \n",
              "1             201807         21821  ...                0         15 SUR GRANDE\n",
              "1             201807         81604  ...                1  17 SANTIAGO PONIENTE\n",
              "1             201807        134091  ...                0        16 SUR AUSTRAL\n",
              "1             201807        176046  ...                0  17 SANTIAGO PONIENTE\n",
              "1             201807        204546  ...                0       11 NORTE GRANDE\n",
              "\n",
              "[5 rows x 20 columns]"
            ]
          },
          "metadata": {
            "tags": []
          },
          "execution_count": 12
        }
      ]
    },
    {
      "cell_type": "markdown",
      "metadata": {
        "id": "SSxyBEkgZqQ0",
        "colab_type": "text"
      },
      "source": [
        "##Productos"
      ]
    },
    {
      "cell_type": "code",
      "metadata": {
        "id": "ZMmBVP84Z1mx",
        "colab_type": "code",
        "colab": {}
      },
      "source": [
        "ds_producto = pd.read_csv(\"maestro_producto.csv\",index_col=None)\n",
        "ds_producto = ds_producto.drop_duplicates()\n",
        "reduce_memory(ds_producto)\n",
        "ds_producto = ds_producto.drop(columns=['Unnamed: 0'])"
      ],
      "execution_count": 0,
      "outputs": []
    },
    {
      "cell_type": "code",
      "metadata": {
        "id": "afUeGyrN7tvL",
        "colab_type": "code",
        "outputId": "4ddd764a-0656-43cc-cc00-3c7e2ee9d5cc",
        "colab": {
          "base_uri": "https://localhost:8080/",
          "height": 255
        }
      },
      "source": [
        "ds_producto.info()"
      ],
      "execution_count": 0,
      "outputs": [
        {
          "output_type": "stream",
          "text": [
            "<class 'pandas.core.frame.DataFrame'>\n",
            "Int64Index: 3190 entries, 0 to 3189\n",
            "Data columns (total 9 columns):\n",
            "idproducto             3190 non-null int32\n",
            "codigounidadnegocio    3190 non-null int8\n",
            "unidadnegocio          3190 non-null object\n",
            "codigomarca            3190 non-null int8\n",
            "marca                  3190 non-null object\n",
            "codigocategoria        3190 non-null object\n",
            "categoria              3190 non-null object\n",
            "codigotipo             3190 non-null object\n",
            "tipo                   3182 non-null object\n",
            "dtypes: int32(1), int8(2), object(6)\n",
            "memory usage: 193.1+ KB\n"
          ],
          "name": "stdout"
        }
      ]
    },
    {
      "cell_type": "markdown",
      "metadata": {
        "id": "VFhOgHR3bau-",
        "colab_type": "text"
      },
      "source": [
        "## Consultora"
      ]
    },
    {
      "cell_type": "code",
      "metadata": {
        "id": "XBrKOlf_bfrE",
        "colab_type": "code",
        "colab": {}
      },
      "source": [
        "ds_consultora = pd.read_csv(\"maestro_consultora.csv\",index_col=None)\n",
        "ds_consultora = ds_consultora.drop_duplicates()\n",
        "reduce_memory(ds_consultora)\n",
        "ds_consultora = ds_consultora.drop(columns=['flagcorreovalidad', 'Unnamed: 0'])"
      ],
      "execution_count": 0,
      "outputs": []
    },
    {
      "cell_type": "code",
      "metadata": {
        "id": "iJvykKuu76CR",
        "colab_type": "code",
        "outputId": "66aefee7-c50f-41d0-b559-67dfeeb1753a",
        "colab": {
          "base_uri": "https://localhost:8080/",
          "height": 255
        }
      },
      "source": [
        "ds_consultora.info()"
      ],
      "execution_count": 0,
      "outputs": [
        {
          "output_type": "stream",
          "text": [
            "<class 'pandas.core.frame.DataFrame'>\n",
            "Int64Index: 123740 entries, 0 to 123739\n",
            "Data columns (total 9 columns):\n",
            "campanaingreso           123740 non-null int32\n",
            "campanaultimopedido      123740 non-null int32\n",
            "IdConsultora             123740 non-null int32\n",
            "estadocivil              123734 non-null object\n",
            "flagsupervisor           123740 non-null int8\n",
            "campanaprimerpedido      123739 non-null float32\n",
            "flagconsultoradigital    123740 non-null int8\n",
            "edad                     123740 non-null int8\n",
            "flagcelularvalidado      123740 non-null int8\n",
            "dtypes: float32(1), int32(3), int8(4), object(1)\n",
            "memory usage: 4.2+ MB\n"
          ],
          "name": "stdout"
        }
      ]
    },
    {
      "cell_type": "markdown",
      "metadata": {
        "id": "HhUo-6g6CMkc",
        "colab_type": "text"
      },
      "source": [
        "## Fuerza Venta"
      ]
    },
    {
      "cell_type": "code",
      "metadata": {
        "id": "5NgJZeRuCQQL",
        "colab_type": "code",
        "outputId": "9e52e5e6-1c12-401a-a777-aaa6db235191",
        "colab": {
          "base_uri": "https://localhost:8080/",
          "height": 71
        }
      },
      "source": [
        "ds_fuerzaventa = pd.read_csv(\"dtt_fvta_cl.csv\")\n",
        "reduce_memory(ds_fuerzaventa)"
      ],
      "execution_count": 0,
      "outputs": [
        {
          "output_type": "stream",
          "text": [
            "/usr/local/lib/python3.6/dist-packages/IPython/core/interactiveshell.py:2718: DtypeWarning: Columns (8) have mixed types. Specify dtype option on import or set low_memory=False.\n",
            "  interactivity=interactivity, compiler=compiler, result=result)\n"
          ],
          "name": "stderr"
        }
      ]
    },
    {
      "cell_type": "code",
      "metadata": {
        "id": "Hogdl8O5UVvB",
        "colab_type": "code",
        "outputId": "001e6bb5-3264-42b1-81db-8aa8705dfcf5",
        "colab": {
          "base_uri": "https://localhost:8080/",
          "height": 34
        }
      },
      "source": [
        "ds_fuerzaventa['fch_campana'] = ds_fuerzaventa['campana'].map(d)  \n",
        "#ds_cc.dtypes\n",
        "ds_fuerzaventa = ds_fuerzaventa.set_index('fch_campana')\n",
        "ds_fuerzaventa.index.unique()"
      ],
      "execution_count": 0,
      "outputs": [
        {
          "output_type": "execute_result",
          "data": {
            "text/plain": [
              "Int64Index([1, 2, 3, 4, 5, 6, 7, 8, 9, 10, 11, 12, 13, 14, 15, 16, 17, 18], dtype='int64', name='fch_campana')"
            ]
          },
          "metadata": {
            "tags": []
          },
          "execution_count": 9
        }
      ]
    },
    {
      "cell_type": "code",
      "metadata": {
        "id": "vPUIuop47CGg",
        "colab_type": "code",
        "colab": {}
      },
      "source": [
        "ds_fuerzaventa_na = ds_fuerzaventa.dropna()"
      ],
      "execution_count": 0,
      "outputs": []
    },
    {
      "cell_type": "code",
      "metadata": {
        "id": "n4Wi-t8rMcwG",
        "colab_type": "code",
        "outputId": "4a383ba9-0d5a-4b4f-a032-3044a50c5a9a",
        "colab": {
          "base_uri": "https://localhost:8080/",
          "height": 459
        }
      },
      "source": [
        "ds_fuerzaventa_na.info()"
      ],
      "execution_count": 0,
      "outputs": [
        {
          "output_type": "stream",
          "text": [
            "<class 'pandas.core.frame.DataFrame'>\n",
            "Int64Index: 2967082 entries, 11 to 18\n",
            "Data columns (total 21 columns):\n",
            "campana                         int32\n",
            "idconsultora                    int32\n",
            "codigotipooferta                int16\n",
            "descuento                       float32\n",
            "ahorro                          float32\n",
            "canalingresoproducto            object\n",
            "idproducto                      int32\n",
            "codigopalancapersonalizacion    float32\n",
            "palancapersonalizacion          object\n",
            "preciocatalogo                  float32\n",
            "grupooferta                     object\n",
            "realanulmnneto                  float32\n",
            "realdevmnneto                   float32\n",
            "realuuanuladas                  int8\n",
            "realuudevueltas                 int16\n",
            "realuufaltantes                 int16\n",
            "realuuvendidas                  int16\n",
            "realvtamnfaltneto               float32\n",
            "realvtamnneto                   float32\n",
            "realvtamncatalogo               float32\n",
            "realvtamnfaltcatalogo           float32\n",
            "dtypes: float32(10), int16(4), int32(3), int8(1), object(3)\n",
            "memory usage: 263.2+ MB\n"
          ],
          "name": "stdout"
        }
      ]
    },
    {
      "cell_type": "code",
      "metadata": {
        "id": "yb7RqPAO9YA1",
        "colab_type": "code",
        "outputId": "6083075a-b683-49ec-a652-0f91caf649b2",
        "colab": {
          "base_uri": "https://localhost:8080/",
          "height": 442
        }
      },
      "source": [
        "ds_fuerzaventa.info()"
      ],
      "execution_count": 0,
      "outputs": [
        {
          "output_type": "stream",
          "text": [
            "<class 'pandas.core.frame.DataFrame'>\n",
            "Int64Index: 15141943 entries, 201807 to 201906\n",
            "Data columns (total 20 columns):\n",
            "idconsultora                    int32\n",
            "codigotipooferta                int16\n",
            "descuento                       float32\n",
            "ahorro                          float32\n",
            "canalingresoproducto            object\n",
            "idproducto                      int32\n",
            "codigopalancapersonalizacion    float32\n",
            "palancapersonalizacion          object\n",
            "preciocatalogo                  float32\n",
            "grupooferta                     object\n",
            "realanulmnneto                  float32\n",
            "realdevmnneto                   float32\n",
            "realuuanuladas                  int8\n",
            "realuudevueltas                 int16\n",
            "realuufaltantes                 int16\n",
            "realuuvendidas                  int16\n",
            "realvtamnfaltneto               float32\n",
            "realvtamnneto                   float32\n",
            "realvtamncatalogo               float32\n",
            "realvtamnfaltcatalogo           float32\n",
            "dtypes: float32(10), int16(4), int32(2), int8(1), object(3)\n",
            "memory usage: 1.3+ GB\n"
          ],
          "name": "stdout"
        }
      ]
    },
    {
      "cell_type": "code",
      "metadata": {
        "id": "1LAFGDY0FuE6",
        "colab_type": "code",
        "outputId": "488b1002-dc5c-4354-f19f-5b06a7d2ebd6",
        "colab": {
          "base_uri": "https://localhost:8080/",
          "height": 340
        }
      },
      "source": [
        "ds_fuerzaventa.head()"
      ],
      "execution_count": 0,
      "outputs": [
        {
          "output_type": "execute_result",
          "data": {
            "text/html": [
              "<div>\n",
              "<style scoped>\n",
              "    .dataframe tbody tr th:only-of-type {\n",
              "        vertical-align: middle;\n",
              "    }\n",
              "\n",
              "    .dataframe tbody tr th {\n",
              "        vertical-align: top;\n",
              "    }\n",
              "\n",
              "    .dataframe thead th {\n",
              "        text-align: right;\n",
              "    }\n",
              "</style>\n",
              "<table border=\"1\" class=\"dataframe\">\n",
              "  <thead>\n",
              "    <tr style=\"text-align: right;\">\n",
              "      <th></th>\n",
              "      <th>idconsultora</th>\n",
              "      <th>codigotipooferta</th>\n",
              "      <th>descuento</th>\n",
              "      <th>ahorro</th>\n",
              "      <th>canalingresoproducto</th>\n",
              "      <th>idproducto</th>\n",
              "      <th>codigopalancapersonalizacion</th>\n",
              "      <th>palancapersonalizacion</th>\n",
              "      <th>preciocatalogo</th>\n",
              "      <th>grupooferta</th>\n",
              "      <th>realanulmnneto</th>\n",
              "      <th>realdevmnneto</th>\n",
              "      <th>realuuanuladas</th>\n",
              "      <th>realuudevueltas</th>\n",
              "      <th>realuufaltantes</th>\n",
              "      <th>realuuvendidas</th>\n",
              "      <th>realvtamnfaltneto</th>\n",
              "      <th>realvtamnneto</th>\n",
              "      <th>realvtamncatalogo</th>\n",
              "      <th>realvtamnfaltcatalogo</th>\n",
              "    </tr>\n",
              "    <tr>\n",
              "      <th>campana</th>\n",
              "      <th></th>\n",
              "      <th></th>\n",
              "      <th></th>\n",
              "      <th></th>\n",
              "      <th></th>\n",
              "      <th></th>\n",
              "      <th></th>\n",
              "      <th></th>\n",
              "      <th></th>\n",
              "      <th></th>\n",
              "      <th></th>\n",
              "      <th></th>\n",
              "      <th></th>\n",
              "      <th></th>\n",
              "      <th></th>\n",
              "      <th></th>\n",
              "      <th></th>\n",
              "      <th></th>\n",
              "      <th></th>\n",
              "      <th></th>\n",
              "    </tr>\n",
              "  </thead>\n",
              "  <tbody>\n",
              "    <tr>\n",
              "      <th>201807</th>\n",
              "      <td>544706</td>\n",
              "      <td>1</td>\n",
              "      <td>0.0</td>\n",
              "      <td>7990.0</td>\n",
              "      <td>NaN</td>\n",
              "      <td>200091158</td>\n",
              "      <td>12.0</td>\n",
              "      <td>NaN</td>\n",
              "      <td>5495.0</td>\n",
              "      <td>DEMO + GVTAS</td>\n",
              "      <td>0.0</td>\n",
              "      <td>0.0</td>\n",
              "      <td>0</td>\n",
              "      <td>0</td>\n",
              "      <td>0</td>\n",
              "      <td>2</td>\n",
              "      <td>0.0</td>\n",
              "      <td>9236.0</td>\n",
              "      <td>10990.0</td>\n",
              "      <td>0.0</td>\n",
              "    </tr>\n",
              "    <tr>\n",
              "      <th>201807</th>\n",
              "      <td>638877</td>\n",
              "      <td>1</td>\n",
              "      <td>0.0</td>\n",
              "      <td>3800.0</td>\n",
              "      <td>WEB</td>\n",
              "      <td>200091762</td>\n",
              "      <td>1111.0</td>\n",
              "      <td>NaN</td>\n",
              "      <td>7690.0</td>\n",
              "      <td>DEMO + GVTAS</td>\n",
              "      <td>0.0</td>\n",
              "      <td>0.0</td>\n",
              "      <td>0</td>\n",
              "      <td>0</td>\n",
              "      <td>0</td>\n",
              "      <td>1</td>\n",
              "      <td>0.0</td>\n",
              "      <td>6462.0</td>\n",
              "      <td>7690.0</td>\n",
              "      <td>0.0</td>\n",
              "    </tr>\n",
              "    <tr>\n",
              "      <th>201807</th>\n",
              "      <td>186016</td>\n",
              "      <td>1</td>\n",
              "      <td>0.0</td>\n",
              "      <td>3800.0</td>\n",
              "      <td>APP</td>\n",
              "      <td>200091762</td>\n",
              "      <td>42.0</td>\n",
              "      <td>NaN</td>\n",
              "      <td>7690.0</td>\n",
              "      <td>DEMO + GVTAS</td>\n",
              "      <td>0.0</td>\n",
              "      <td>0.0</td>\n",
              "      <td>0</td>\n",
              "      <td>0</td>\n",
              "      <td>0</td>\n",
              "      <td>1</td>\n",
              "      <td>0.0</td>\n",
              "      <td>6462.0</td>\n",
              "      <td>7690.0</td>\n",
              "      <td>0.0</td>\n",
              "    </tr>\n",
              "    <tr>\n",
              "      <th>201807</th>\n",
              "      <td>579940</td>\n",
              "      <td>1</td>\n",
              "      <td>0.0</td>\n",
              "      <td>32748.0</td>\n",
              "      <td>WEB</td>\n",
              "      <td>200091762</td>\n",
              "      <td>12.0</td>\n",
              "      <td>NaN</td>\n",
              "      <td>6032.0</td>\n",
              "      <td>DEMO + GVTAS</td>\n",
              "      <td>0.0</td>\n",
              "      <td>0.0</td>\n",
              "      <td>0</td>\n",
              "      <td>0</td>\n",
              "      <td>0</td>\n",
              "      <td>6</td>\n",
              "      <td>0.0</td>\n",
              "      <td>30414.0</td>\n",
              "      <td>36192.0</td>\n",
              "      <td>0.0</td>\n",
              "    </tr>\n",
              "    <tr>\n",
              "      <th>201807</th>\n",
              "      <td>342158</td>\n",
              "      <td>1</td>\n",
              "      <td>0.0</td>\n",
              "      <td>17272.0</td>\n",
              "      <td>WEB</td>\n",
              "      <td>200091762</td>\n",
              "      <td>12.0</td>\n",
              "      <td>NaN</td>\n",
              "      <td>7172.0</td>\n",
              "      <td>DEMO + GVTAS</td>\n",
              "      <td>0.0</td>\n",
              "      <td>0.0</td>\n",
              "      <td>0</td>\n",
              "      <td>0</td>\n",
              "      <td>0</td>\n",
              "      <td>4</td>\n",
              "      <td>0.0</td>\n",
              "      <td>24108.0</td>\n",
              "      <td>28688.0</td>\n",
              "      <td>0.0</td>\n",
              "    </tr>\n",
              "  </tbody>\n",
              "</table>\n",
              "</div>"
            ],
            "text/plain": [
              "         idconsultora  ...  realvtamnfaltcatalogo\n",
              "campana                ...                       \n",
              "201807         544706  ...                    0.0\n",
              "201807         638877  ...                    0.0\n",
              "201807         186016  ...                    0.0\n",
              "201807         579940  ...                    0.0\n",
              "201807         342158  ...                    0.0\n",
              "\n",
              "[5 rows x 20 columns]"
            ]
          },
          "metadata": {
            "tags": []
          },
          "execution_count": 63
        }
      ]
    },
    {
      "cell_type": "code",
      "metadata": {
        "id": "ci-MIY8Y9eum",
        "colab_type": "code",
        "outputId": "251fa10c-38d8-48ef-f191-44e7e7233af5",
        "colab": {
          "base_uri": "https://localhost:8080/",
          "height": 284
        }
      },
      "source": [
        "by_weekday = ds_fuerzaventa[\"descuento\"].groupby(ds_fuerzaventa.index).mean()\n",
        "by_weekday.index = ds_fuerzaventa.index.unique()\n",
        "by_weekday.plot(style=[':', '--', '-']);"
      ],
      "execution_count": 0,
      "outputs": [
        {
          "output_type": "display_data",
          "data": {
            "image/png": "[encoded data removed]",
            "text/plain": [
              "<Figure size 432x288 with 1 Axes>"
            ]
          },
          "metadata": {
            "tags": []
          }
        }
      ]
    },
    {
      "cell_type": "code",
      "metadata": {
        "id": "v08jhrUQGGjY",
        "colab_type": "code",
        "outputId": "6fc57e1f-dad0-4a00-ed18-e6b38c6b1276",
        "colab": {
          "base_uri": "https://localhost:8080/",
          "height": 284
        }
      },
      "source": [
        "by_weekday = ds_fuerzaventa[\"ahorro\"].groupby(ds_fuerzaventa.index).mean()\n",
        "by_weekday.index = ds_fuerzaventa.index.unique()\n",
        "by_weekday.plot(style=[':', '--', '-']);"
      ],
      "execution_count": 0,
      "outputs": [
        {
          "output_type": "display_data",
          "data": {
            "image/png": "[encoded data removed]",
            "text/plain": [
              "<Figure size 432x288 with 1 Axes>"
            ]
          },
          "metadata": {
            "tags": []
          }
        }
      ]
    },
    {
      "cell_type": "code",
      "metadata": {
        "id": "Q7S1kfnBM1D9",
        "colab_type": "code",
        "outputId": "36f7c8df-9046-4550-9ef6-46dfbd709814",
        "colab": {
          "base_uri": "https://localhost:8080/",
          "height": 284
        }
      },
      "source": [
        "#preciocatalogo realdevmnneto\trealuuanuladas\trealuudevueltas\trealuufaltantes\trealuuvendidas\trealvtamnfaltneto\trealvtamnneto\trealvtamncatalogo\trealvtamnfaltcatalog\n",
        "by_weekday = ds_fuerzaventa[\"realuuvendidas\"].groupby(ds_fuerzaventa.index).mean()\n",
        "by_weekday.index = ds_fuerzaventa.index.unique()\n",
        "by_weekday.plot(style=[':', '--', '-']);"
      ],
      "execution_count": 0,
      "outputs": [
        {
          "output_type": "display_data",
          "data": {
            "image/png": "[encoded data removed]",
            "text/plain": [
              "<Figure size 432x288 with 1 Axes>"
            ]
          },
          "metadata": {
            "tags": []
          }
        }
      ]
    },
    {
      "cell_type": "code",
      "metadata": {
        "id": "Fsr-hIX5WH2Y",
        "colab_type": "code",
        "colab": {}
      },
      "source": [
        "plt.rcParams['agg.path.chunksize'] = 10000"
      ],
      "execution_count": 0,
      "outputs": []
    },
    {
      "cell_type": "code",
      "metadata": {
        "id": "OyVO1B9dXN3U",
        "colab_type": "code",
        "outputId": "c3fcd726-2577-477c-ad4f-5a8d16760db7",
        "colab": {
          "base_uri": "https://localhost:8080/",
          "height": 391
        }
      },
      "source": [
        "ds_fuerzaventa.count()"
      ],
      "execution_count": 0,
      "outputs": [
        {
          "output_type": "execute_result",
          "data": {
            "text/plain": [
              "campana                         15141943\n",
              "idconsultora                    15141943\n",
              "codigotipooferta                15141943\n",
              "descuento                       15141943\n",
              "ahorro                          15141943\n",
              "canalingresoproducto            10705788\n",
              "idproducto                      15141943\n",
              "codigopalancapersonalizacion    13974469\n",
              "palancapersonalizacion           6963891\n",
              "preciocatalogo                  15141943\n",
              "grupooferta                      8295750\n",
              "realanulmnneto                  15141943\n",
              "realdevmnneto                   15141943\n",
              "realuuanuladas                  15141943\n",
              "realuudevueltas                 15141943\n",
              "realuufaltantes                 15141943\n",
              "realuuvendidas                  15141943\n",
              "realvtamnfaltneto               15141943\n",
              "realvtamnneto                   15141943\n",
              "realvtamncatalogo               15141943\n",
              "realvtamnfaltcatalogo           15141943\n",
              "dtype: int64"
            ]
          },
          "metadata": {
            "tags": []
          },
          "execution_count": 22
        }
      ]
    },
    {
      "cell_type": "code",
      "metadata": {
        "id": "84g3LuO7NBfs",
        "colab_type": "code",
        "colab": {}
      },
      "source": [
        "# # Generate dataset\n",
        "from scipy.interpolate import interp1d\n",
        "from sklearn.metrics import mean_squared_error\n",
        "#descuento                       float32\n",
        "#ahorro                          float32\n",
        "#preciocatalogo                  float32\n",
        "#realanulmnneto                  float32\n",
        "#realdevmnneto                   float32\n",
        "#realuuanuladas                  int8\n",
        "#realuudevueltas                 int16\n",
        "#realuufaltantes                 int16\n",
        "#realuuvendidas                  int16\n",
        "#realvtamnfaltneto               float32\n",
        "#realvtamnneto                   float32\n",
        "#realvtamncatalogo               float32\n",
        "#realvtamnfaltcatalogo           float32\n",
        "\n",
        "\n",
        "df_aux = ds_fuerzaventa[[\"descuento\",\"ahorro\",\"preciocatalogo\",\"realanulmnneto\",\"realdevmnneto\",\n",
        "                         \"realuuanuladas\",\"realuudevueltas\",\"realuufaltantes\",\"realuuvendidas\",\n",
        "                         \"realvtamnfaltneto\",\"realvtamnneto\",\"realvtamncatalogo\",\"realvtamnfaltcatalogo\"\n",
        "                        ]]"
      ],
      "execution_count": 0,
      "outputs": []
    },
    {
      "cell_type": "code",
      "metadata": {
        "id": "u33g1MFROb3v",
        "colab_type": "code",
        "outputId": "94c03696-1641-4a54-ff35-be95c56365d5",
        "colab": {
          "base_uri": "https://localhost:8080/",
          "height": 34
        }
      },
      "source": [
        "error = np.round(mean_squared_error(df_orig['value'], df_ffill['value']), 2)\n",
        "df_ffill['value'].plot(title='Forward Fill (MSE: ' + str(error) +\")\", ax=axes[1], label='Forward Fill', style=\".-\")"
      ],
      "execution_count": 0,
      "outputs": [
        {
          "output_type": "execute_result",
          "data": {
            "text/plain": [
              "(15141943, 21)"
            ]
          },
          "metadata": {
            "tags": []
          },
          "execution_count": 15
        }
      ]
    },
    {
      "cell_type": "code",
      "metadata": {
        "id": "wkJ-bbvQUv5i",
        "colab_type": "code",
        "colab": {}
      },
      "source": [
        "values = df_aux.values\n",
        "# specify columns to plot\n",
        "groups = [0, 1, 2, 3, 5, 6, 7,8,9,10,11,12]\n",
        "i = 1\n",
        "# plot each column\n",
        "plt.figure()\n",
        "for group in groups:\n",
        "\tplt.subplot(len(groups), 1, i)\n",
        "\tplt.plot(values[:, group])\n",
        "\tplt.title(df_aux.columns[group], y=0.5, loc='right')\n",
        "\ti += 1\n",
        "plt.show()"
      ],
      "execution_count": 0,
      "outputs": []
    },
    {
      "cell_type": "code",
      "metadata": {
        "id": "Wa4F6O8xXsi_",
        "colab_type": "code",
        "colab": {}
      },
      "source": [
        ""
      ],
      "execution_count": 0,
      "outputs": []
    }
  ]
}